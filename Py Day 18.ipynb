{
 "cells": [
  {
   "cell_type": "markdown",
   "metadata": {},
   "source": [
    "Libraries practice"
   ]
  },
  {
   "cell_type": "markdown",
   "metadata": {},
   "source": [
    "Creating NumPy Arrays"
   ]
  },
  {
   "cell_type": "code",
   "execution_count": 2,
   "metadata": {},
   "outputs": [
    {
     "name": "stdout",
     "output_type": "stream",
     "text": [
      "1D array is [10 20 30 40 50]\n",
      "2D array is [[1 2 3]\n",
      " [4 5 6]\n",
      " [7 8 9]]\n",
      "3D array is [[[ 1  2  3]\n",
      "  [ 4  5  6]\n",
      "  [ 7  8  9]\n",
      "  [10 11 12]]]\n"
     ]
    }
   ],
   "source": [
    "import numpy as np\n",
    "# 1D array\n",
    "arr1 = np.array([10,20,30,40,50])\n",
    "print(f\"1D array is {arr1}\")\n",
    "# 2D array\n",
    "arr2 = np.array([[1,2,3], [4,5,6], [7,8,9]])\n",
    "print(f\"2D array is {arr2}\")\n",
    "#3D array\n",
    "arr3 = np.array([[[1,2,3],[4,5,6],[7,8,9],[10,11,12]]])\n",
    "print(f\"3D array is {arr3}\")"
   ]
  },
  {
   "cell_type": "markdown",
   "metadata": {},
   "source": [
    " Array Shape and Reshaping"
   ]
  },
  {
   "cell_type": "code",
   "execution_count": 3,
   "metadata": {},
   "outputs": [
    {
     "name": "stdout",
     "output_type": "stream",
     "text": [
      "Orginal array [ 1  2  3  4  5  6  7  8  9 10 11 12]\n",
      "Reshaped array into (3,4) [[ 1  2  3  4]\n",
      " [ 5  6  7  8]\n",
      " [ 9 10 11 12]]\n",
      "Reshaped array into (2,6) : [[ 1  2  3  4  5  6]\n",
      " [ 7  8  9 10 11 12]]\n",
      "Reshaped array into (6,2)  [[ 1  2]\n",
      " [ 3  4]\n",
      " [ 5  6]\n",
      " [ 7  8]\n",
      " [ 9 10]\n",
      " [11 12]]\n",
      "shape of 3 rows and 4 columns:  (3, 4)\n"
     ]
    }
   ],
   "source": [
    "arr = np.arange(1,13)\n",
    "print(f\"Orginal array {arr}\")\n",
    "# Reshape into (3, 4)\n",
    "reshaped_array_1 = arr.reshape(3,4)\n",
    "print(f\"Reshaped array into (3,4) {reshaped_array_1}\")\n",
    "# Reshape into (2,6)\n",
    "reshaped_array_2 = arr.reshape(2,6)\n",
    "print(f\"Reshaped array into (2,6) : {reshaped_array_2}\")\n",
    "# Reshape into (6,2)\n",
    "reshaped_array_3 = arr.reshape(6,2)\n",
    "print(f\"Reshaped array into (6,2) \", reshaped_array_3)\n",
    "# Get shape\n",
    "print(\"shape of 3 rows and 4 columns: \", reshaped_array_1.shape)"
   ]
  },
  {
   "cell_type": "markdown",
   "metadata": {},
   "source": [
    "Basic Mathematical Operations"
   ]
  },
  {
   "cell_type": "code",
   "execution_count": 4,
   "metadata": {},
   "outputs": [
    {
     "name": "stdout",
     "output_type": "stream",
     "text": [
      "Element wise addition is \n",
      " [ 6  8 10 10]\n",
      "Element wise product is \n",
      " [ 5 12 21 24]\n",
      "Scalar multiplication \n",
      " [ 3  6  9 12]\n"
     ]
    }
   ],
   "source": [
    "arr1 = np.array([1,2,3,4])\n",
    "arr2 = np.array([5,6,7,6])\n",
    "\n",
    "# Addition\n",
    "sum_arr = arr1 + arr2\n",
    "print(f\"Element wise addition is \\n {sum_arr}\")\n",
    "# Multiplication\n",
    "product_arr = arr1 * arr2\n",
    "print(f\"Element wise product is \\n {product_arr}\")\n",
    "# Scalar Multiplication \n",
    "scalar_mul = arr1 * 3\n",
    "print(f\"Scalar multiplication \\n {scalar_mul}\")"
   ]
  },
  {
   "cell_type": "markdown",
   "metadata": {},
   "source": [
    "Statistical operations"
   ]
  },
  {
   "cell_type": "code",
   "execution_count": 5,
   "metadata": {},
   "outputs": [
    {
     "name": "stdout",
     "output_type": "stream",
     "text": [
      "Mean value is :  30.0\n",
      "Median value is :  30.0\n",
      "Standard deviation is :  14.142135623730951\n"
     ]
    }
   ],
   "source": [
    "data = np.array([10,20,30,40,50])\n",
    "# Mean\n",
    "mean = np.mean(data)\n",
    "print(\"Mean value is : \",mean)\n",
    "# Median\n",
    "median = np.median(data)\n",
    "print(\"Median value is : \",median)\n",
    "# Standard Deviation\n",
    "std_dev = np.std(data)\n",
    "print(\"Standard deviation is : \",std_dev)"
   ]
  },
  {
   "cell_type": "markdown",
   "metadata": {},
   "source": [
    "Creating Data with Pandas"
   ]
  },
  {
   "cell_type": "code",
   "execution_count": 6,
   "metadata": {},
   "outputs": [
    {
     "name": "stdout",
     "output_type": "stream",
     "text": [
      "Data Frame :\n",
      "    column 1  column 2  column 3\n",
      "0         1         4         7\n",
      "1         2         5         8\n",
      "2         3         6         9\n",
      "Data Frame :\n",
      "     A   B   C\n",
      "0   1   2   3\n",
      "1   4   5   6\n",
      "2   7   8   9\n",
      "3  10  11  12\n",
      "4  13  14  15\n"
     ]
    }
   ],
   "source": [
    "import pandas as pd\n",
    "# Create DataFrame from dictionary\n",
    "data = {\n",
    "    'column 1': [1,2,3],\n",
    "    'column 2': [4,5,6],\n",
    "    'column 3': [7,8,9]\n",
    "}\n",
    "df = pd.DataFrame(data)\n",
    "print(\"Data Frame :\\n\",df)\n",
    "\n",
    "# Create DataFrame from NumPy array\n",
    "arr = np.arange(1,16).reshape(5,3)\n",
    "df2 = pd.DataFrame(arr, columns= ['A', 'B','C'])\n",
    "print(\"Data Frame :\\n\",df2)"
   ]
  },
  {
   "cell_type": "code",
   "execution_count": 7,
   "metadata": {},
   "outputs": [
    {
     "name": "stdout",
     "output_type": "stream",
     "text": [
      "   col 1  col 2  col 3\n",
      "A      1      4      7\n",
      "B     10     13     16\n",
      "C     19     22     25\n",
      "D     28     31     34\n",
      "E     37     40     43\n",
      "F     46     49     52\n",
      "G     55     58     61\n",
      "H     64     67     70\n",
      "I     73     76     79\n",
      "J     82     85     88\n"
     ]
    }
   ],
   "source": [
    "import pandas as pd\n",
    "number_df = pd.DataFrame(np.arange(1,90,3).reshape(10,3),  # np.arange(start, stop, step) generates an array of evenly spaced values.\n",
    "                         index=[\"A\",\"B\",\"C\",\"D\",\"E\",\"F\",\"G\",\"H\",\"I\",\"J\"],\n",
    "                         columns= ['col 1', 'col 2', 'col 3'])\n",
    "print(number_df)"
   ]
  },
  {
   "cell_type": "code",
   "execution_count": 8,
   "metadata": {},
   "outputs": [
    {
     "data": {
      "text/html": [
       "<div>\n",
       "<style scoped>\n",
       "    .dataframe tbody tr th:only-of-type {\n",
       "        vertical-align: middle;\n",
       "    }\n",
       "\n",
       "    .dataframe tbody tr th {\n",
       "        vertical-align: top;\n",
       "    }\n",
       "\n",
       "    .dataframe thead th {\n",
       "        text-align: right;\n",
       "    }\n",
       "</style>\n",
       "<table border=\"1\" class=\"dataframe\">\n",
       "  <thead>\n",
       "    <tr style=\"text-align: right;\">\n",
       "      <th></th>\n",
       "      <th>col 2</th>\n",
       "      <th>col 3</th>\n",
       "    </tr>\n",
       "  </thead>\n",
       "  <tbody>\n",
       "    <tr>\n",
       "      <th>B</th>\n",
       "      <td>13</td>\n",
       "      <td>16</td>\n",
       "    </tr>\n",
       "    <tr>\n",
       "      <th>D</th>\n",
       "      <td>31</td>\n",
       "      <td>34</td>\n",
       "    </tr>\n",
       "    <tr>\n",
       "      <th>F</th>\n",
       "      <td>49</td>\n",
       "      <td>52</td>\n",
       "    </tr>\n",
       "  </tbody>\n",
       "</table>\n",
       "</div>"
      ],
      "text/plain": [
       "   col 2  col 3\n",
       "B     13     16\n",
       "D     31     34\n",
       "F     49     52"
      ]
     },
     "execution_count": 8,
     "metadata": {},
     "output_type": "execute_result"
    }
   ],
   "source": [
    "# Selecting rows 1,3,5 and columns 1 and 2\n",
    "number_df.iloc[[1,3,5], [1,2]]"
   ]
  },
  {
   "cell_type": "code",
   "execution_count": 9,
   "metadata": {},
   "outputs": [
    {
     "data": {
      "text/html": [
       "<div>\n",
       "<style scoped>\n",
       "    .dataframe tbody tr th:only-of-type {\n",
       "        vertical-align: middle;\n",
       "    }\n",
       "\n",
       "    .dataframe tbody tr th {\n",
       "        vertical-align: top;\n",
       "    }\n",
       "\n",
       "    .dataframe thead th {\n",
       "        text-align: right;\n",
       "    }\n",
       "</style>\n",
       "<table border=\"1\" class=\"dataframe\">\n",
       "  <thead>\n",
       "    <tr style=\"text-align: right;\">\n",
       "      <th></th>\n",
       "      <th>col 1</th>\n",
       "      <th>col 2</th>\n",
       "      <th>col 3</th>\n",
       "    </tr>\n",
       "  </thead>\n",
       "  <tbody>\n",
       "    <tr>\n",
       "      <th>A</th>\n",
       "      <td>False</td>\n",
       "      <td>False</td>\n",
       "      <td>False</td>\n",
       "    </tr>\n",
       "    <tr>\n",
       "      <th>B</th>\n",
       "      <td>False</td>\n",
       "      <td>False</td>\n",
       "      <td>False</td>\n",
       "    </tr>\n",
       "    <tr>\n",
       "      <th>C</th>\n",
       "      <td>False</td>\n",
       "      <td>False</td>\n",
       "      <td>False</td>\n",
       "    </tr>\n",
       "    <tr>\n",
       "      <th>D</th>\n",
       "      <td>False</td>\n",
       "      <td>False</td>\n",
       "      <td>False</td>\n",
       "    </tr>\n",
       "    <tr>\n",
       "      <th>E</th>\n",
       "      <td>False</td>\n",
       "      <td>False</td>\n",
       "      <td>False</td>\n",
       "    </tr>\n",
       "    <tr>\n",
       "      <th>F</th>\n",
       "      <td>False</td>\n",
       "      <td>False</td>\n",
       "      <td>True</td>\n",
       "    </tr>\n",
       "    <tr>\n",
       "      <th>G</th>\n",
       "      <td>True</td>\n",
       "      <td>True</td>\n",
       "      <td>True</td>\n",
       "    </tr>\n",
       "    <tr>\n",
       "      <th>H</th>\n",
       "      <td>True</td>\n",
       "      <td>True</td>\n",
       "      <td>True</td>\n",
       "    </tr>\n",
       "    <tr>\n",
       "      <th>I</th>\n",
       "      <td>True</td>\n",
       "      <td>True</td>\n",
       "      <td>True</td>\n",
       "    </tr>\n",
       "    <tr>\n",
       "      <th>J</th>\n",
       "      <td>True</td>\n",
       "      <td>True</td>\n",
       "      <td>True</td>\n",
       "    </tr>\n",
       "  </tbody>\n",
       "</table>\n",
       "</div>"
      ],
      "text/plain": [
       "   col 1  col 2  col 3\n",
       "A  False  False  False\n",
       "B  False  False  False\n",
       "C  False  False  False\n",
       "D  False  False  False\n",
       "E  False  False  False\n",
       "F  False  False   True\n",
       "G   True   True   True\n",
       "H   True   True   True\n",
       "I   True   True   True\n",
       "J   True   True   True"
      ]
     },
     "execution_count": 9,
     "metadata": {},
     "output_type": "execute_result"
    }
   ],
   "source": [
    "# shows true to the value at the position if it is more than 50\n",
    "result = number_df > 50\n",
    "result"
   ]
  },
  {
   "cell_type": "code",
   "execution_count": 10,
   "metadata": {},
   "outputs": [
    {
     "data": {
      "text/html": [
       "<div>\n",
       "<style scoped>\n",
       "    .dataframe tbody tr th:only-of-type {\n",
       "        vertical-align: middle;\n",
       "    }\n",
       "\n",
       "    .dataframe tbody tr th {\n",
       "        vertical-align: top;\n",
       "    }\n",
       "\n",
       "    .dataframe thead th {\n",
       "        text-align: right;\n",
       "    }\n",
       "</style>\n",
       "<table border=\"1\" class=\"dataframe\">\n",
       "  <thead>\n",
       "    <tr style=\"text-align: right;\">\n",
       "      <th></th>\n",
       "      <th>col 1</th>\n",
       "      <th>col 2</th>\n",
       "      <th>col 3</th>\n",
       "    </tr>\n",
       "  </thead>\n",
       "  <tbody>\n",
       "    <tr>\n",
       "      <th>A</th>\n",
       "      <td>NaN</td>\n",
       "      <td>NaN</td>\n",
       "      <td>NaN</td>\n",
       "    </tr>\n",
       "    <tr>\n",
       "      <th>B</th>\n",
       "      <td>NaN</td>\n",
       "      <td>NaN</td>\n",
       "      <td>NaN</td>\n",
       "    </tr>\n",
       "    <tr>\n",
       "      <th>C</th>\n",
       "      <td>NaN</td>\n",
       "      <td>NaN</td>\n",
       "      <td>NaN</td>\n",
       "    </tr>\n",
       "    <tr>\n",
       "      <th>D</th>\n",
       "      <td>NaN</td>\n",
       "      <td>NaN</td>\n",
       "      <td>NaN</td>\n",
       "    </tr>\n",
       "    <tr>\n",
       "      <th>E</th>\n",
       "      <td>NaN</td>\n",
       "      <td>NaN</td>\n",
       "      <td>NaN</td>\n",
       "    </tr>\n",
       "    <tr>\n",
       "      <th>F</th>\n",
       "      <td>NaN</td>\n",
       "      <td>NaN</td>\n",
       "      <td>52.0</td>\n",
       "    </tr>\n",
       "    <tr>\n",
       "      <th>G</th>\n",
       "      <td>55.0</td>\n",
       "      <td>58.0</td>\n",
       "      <td>61.0</td>\n",
       "    </tr>\n",
       "    <tr>\n",
       "      <th>H</th>\n",
       "      <td>64.0</td>\n",
       "      <td>67.0</td>\n",
       "      <td>70.0</td>\n",
       "    </tr>\n",
       "    <tr>\n",
       "      <th>I</th>\n",
       "      <td>73.0</td>\n",
       "      <td>76.0</td>\n",
       "      <td>79.0</td>\n",
       "    </tr>\n",
       "    <tr>\n",
       "      <th>J</th>\n",
       "      <td>82.0</td>\n",
       "      <td>85.0</td>\n",
       "      <td>88.0</td>\n",
       "    </tr>\n",
       "  </tbody>\n",
       "</table>\n",
       "</div>"
      ],
      "text/plain": [
       "   col 1  col 2  col 3\n",
       "A    NaN    NaN    NaN\n",
       "B    NaN    NaN    NaN\n",
       "C    NaN    NaN    NaN\n",
       "D    NaN    NaN    NaN\n",
       "E    NaN    NaN    NaN\n",
       "F    NaN    NaN   52.0\n",
       "G   55.0   58.0   61.0\n",
       "H   64.0   67.0   70.0\n",
       "I   73.0   76.0   79.0\n",
       "J   82.0   85.0   88.0"
      ]
     },
     "execution_count": 10,
     "metadata": {},
     "output_type": "execute_result"
    }
   ],
   "source": [
    "# Shows you values only more than 50 and NaN if the value is not more than 50\n",
    "result = number_df > 50\n",
    "number_df[result]"
   ]
  },
  {
   "cell_type": "code",
   "execution_count": 11,
   "metadata": {},
   "outputs": [
    {
     "data": {
      "text/html": [
       "<div>\n",
       "<style scoped>\n",
       "    .dataframe tbody tr th:only-of-type {\n",
       "        vertical-align: middle;\n",
       "    }\n",
       "\n",
       "    .dataframe tbody tr th {\n",
       "        vertical-align: top;\n",
       "    }\n",
       "\n",
       "    .dataframe thead th {\n",
       "        text-align: right;\n",
       "    }\n",
       "</style>\n",
       "<table border=\"1\" class=\"dataframe\">\n",
       "  <thead>\n",
       "    <tr style=\"text-align: right;\">\n",
       "      <th></th>\n",
       "      <th>col 1</th>\n",
       "      <th>col 2</th>\n",
       "      <th>col 3</th>\n",
       "    </tr>\n",
       "  </thead>\n",
       "  <tbody>\n",
       "    <tr>\n",
       "      <th>A</th>\n",
       "      <td>1</td>\n",
       "      <td>4</td>\n",
       "      <td>7</td>\n",
       "    </tr>\n",
       "    <tr>\n",
       "      <th>B</th>\n",
       "      <td>10</td>\n",
       "      <td>13</td>\n",
       "      <td>16</td>\n",
       "    </tr>\n",
       "    <tr>\n",
       "      <th>C</th>\n",
       "      <td>19</td>\n",
       "      <td>22</td>\n",
       "      <td>25</td>\n",
       "    </tr>\n",
       "    <tr>\n",
       "      <th>D</th>\n",
       "      <td>28</td>\n",
       "      <td>31</td>\n",
       "      <td>34</td>\n",
       "    </tr>\n",
       "    <tr>\n",
       "      <th>E</th>\n",
       "      <td>37</td>\n",
       "      <td>40</td>\n",
       "      <td>43</td>\n",
       "    </tr>\n",
       "    <tr>\n",
       "      <th>F</th>\n",
       "      <td>46</td>\n",
       "      <td>49</td>\n",
       "      <td>0</td>\n",
       "    </tr>\n",
       "    <tr>\n",
       "      <th>G</th>\n",
       "      <td>0</td>\n",
       "      <td>0</td>\n",
       "      <td>0</td>\n",
       "    </tr>\n",
       "    <tr>\n",
       "      <th>H</th>\n",
       "      <td>0</td>\n",
       "      <td>0</td>\n",
       "      <td>0</td>\n",
       "    </tr>\n",
       "    <tr>\n",
       "      <th>I</th>\n",
       "      <td>0</td>\n",
       "      <td>0</td>\n",
       "      <td>0</td>\n",
       "    </tr>\n",
       "    <tr>\n",
       "      <th>J</th>\n",
       "      <td>0</td>\n",
       "      <td>0</td>\n",
       "      <td>0</td>\n",
       "    </tr>\n",
       "  </tbody>\n",
       "</table>\n",
       "</div>"
      ],
      "text/plain": [
       "   col 1  col 2  col 3\n",
       "A      1      4      7\n",
       "B     10     13     16\n",
       "C     19     22     25\n",
       "D     28     31     34\n",
       "E     37     40     43\n",
       "F     46     49      0\n",
       "G      0      0      0\n",
       "H      0      0      0\n",
       "I      0      0      0\n",
       "J      0      0      0"
      ]
     },
     "execution_count": 11,
     "metadata": {},
     "output_type": "execute_result"
    }
   ],
   "source": [
    "# Turn all the numbers which are greater than 50 into 0\n",
    "number_df[number_df > 50] = 0\n",
    "number_df"
   ]
  },
  {
   "cell_type": "markdown",
   "metadata": {},
   "source": [
    "Indexing with iloc"
   ]
  },
  {
   "cell_type": "code",
   "execution_count": 12,
   "metadata": {},
   "outputs": [
    {
     "name": "stdout",
     "output_type": "stream",
     "text": [
      "   A  B\n",
      "0  1  4\n",
      "1  2  5\n",
      "2  3  6\n",
      "First row is\n",
      "A    1\n",
      "B    4\n",
      "Name: 0, dtype: int64\n",
      "First 2 rows are\n",
      "   A  B\n",
      "0  1  4\n",
      "1  2  5\n",
      "value at the first row and second column is 4\n",
      "Sub set is\n",
      "   A  B\n",
      "1  2  5\n",
      "2  3  6\n"
     ]
    }
   ],
   "source": [
    "# Create a DataFrame\n",
    "df = pd.DataFrame({\n",
    "    'A': [1, 2, 3],\n",
    "    'B': [4, 5, 6]\n",
    "})\n",
    "print(df)\n",
    "# Select the first row\n",
    "row1 = df.iloc[0]\n",
    "print(f\"First row is\\n{row1}\")\n",
    "# Select the first two rows\n",
    "row2 = df.iloc[0:2]\n",
    "print(f\"First 2 rows are\\n{row2}\")\n",
    "# Select the value at the first row and second column\n",
    "row_col_value = df.iloc[0,1]\n",
    "print(f\"value at the first row and second column is {row_col_value}\")\n",
    "# Slicing rows and columns\n",
    "sub_set = df.iloc[1:3, 0:2]\n",
    "print(f\"Sub set is\\n{sub_set}\")"
   ]
  },
  {
   "cell_type": "code",
   "execution_count": null,
   "metadata": {},
   "outputs": [],
   "source": []
  }
 ],
 "metadata": {
  "colab": {
   "authorship_tag": "ABX9TyNPwOL2LQMszT+jr/jfBjIC",
   "provenance": []
  },
  "kernelspec": {
   "display_name": "base",
   "language": "python",
   "name": "python3"
  },
  "language_info": {
   "codemirror_mode": {
    "name": "ipython",
    "version": 3
   },
   "file_extension": ".py",
   "mimetype": "text/x-python",
   "name": "python",
   "nbconvert_exporter": "python",
   "pygments_lexer": "ipython3",
   "version": "3.12.7"
  }
 },
 "nbformat": 4,
 "nbformat_minor": 0
}
